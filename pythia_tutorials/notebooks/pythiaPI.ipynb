{
 "cells": [
  {
   "cell_type": "markdown",
   "metadata": {},
   "source": [
    "# Pythia 8 standalone"
   ]
  },
  {
   "cell_type": "markdown",
   "metadata": {},
   "source": [
    "This notebook gives a basic idea of the Pythia 8 event generator, by using the Python interface of Pythia 8. You can adjust a set of parameters and choose from different different histograms to be plotted."
   ]
  },
  {
   "cell_type": "markdown",
   "metadata": {},
   "source": [
    "First, lets import all neccessary modules."
   ]
  },
  {
   "cell_type": "code",
   "execution_count": null,
   "metadata": {},
   "outputs": [],
   "source": [
    "import os, sys, pythia8\n",
    "from plotting import MULTHIST\n",
    "import py8settings as py8s"
   ]
  },
  {
   "cell_type": "markdown",
   "metadata": {},
   "source": [
    "Now we create a Pythia 8 object and apply the settings to define the incoming beams. More settings can be adjusted later."
   ]
  },
  {
   "cell_type": "code",
   "execution_count": null,
   "metadata": {},
   "outputs": [],
   "source": [
    "# Setup pythia, apply beam settings.\n",
    "pythia = pythia8.Pythia()\n",
    "py8s.beam_settings(pythia)"
   ]
  },
  {
   "cell_type": "markdown",
   "metadata": {},
   "source": [
    "Some other basic settings, such as the number of events and choice of process(es), can now be adjusted.\n",
    "\n",
    "Note that you will first select a class of processes. Depending on that choice you have can choose proper processes. Multiple processes of a class can be selected with shift and/or ctrl (or command) pressed and mouse clicks or arrow keys.\n",
    "\n",
    "<b> You have to select at least one process!"
   ]
  },
  {
   "cell_type": "code",
   "execution_count": null,
   "metadata": {},
   "outputs": [],
   "source": [
    "# Apply basic settings.\n",
    "py8s.basic_settings(pythia)"
   ]
  },
  {
   "cell_type": "markdown",
   "metadata": {},
   "source": [
    "Different steps of the simulation can be switched on / off next."
   ]
  },
  {
   "cell_type": "code",
   "execution_count": null,
   "metadata": {},
   "outputs": [],
   "source": [
    "# Switch on/off simulation steps.\n",
    "py8s.onoff_settings(pythia)"
   ]
  },
  {
   "cell_type": "markdown",
   "metadata": {},
   "source": [
    "As a next step, you can now apply phase-space cuts. Note that the input to the function should be set to the number of final-state particles of the process(es) selected above."
   ]
  },
  {
   "cell_type": "code",
   "execution_count": null,
   "metadata": {},
   "outputs": [],
   "source": [
    "# Apply settings for phase-space cuts.\n",
    "py8s.pscuts_settings(pythia, 2)"
   ]
  },
  {
   "cell_type": "markdown",
   "metadata": {},
   "source": [
    "Now it is time to think about the basic shower parameters."
   ]
  },
  {
   "cell_type": "code",
   "execution_count": null,
   "metadata": {},
   "outputs": [],
   "source": [
    "# Apply shower settings.\n",
    "py8s.shower_settings(pythia)"
   ]
  },
  {
   "cell_type": "markdown",
   "metadata": {},
   "source": [
    "And finally the fragmentation parameters."
   ]
  },
  {
   "cell_type": "code",
   "execution_count": null,
   "metadata": {},
   "outputs": [],
   "source": [
    "# Apply fragmentation settings.\n",
    "py8s.fragmentation_settings(pythia)"
   ]
  },
  {
   "cell_type": "markdown",
   "metadata": {},
   "source": [
    "If you want to modify more settings, use the pythia.readString(\"...\") method."
   ]
  },
  {
   "cell_type": "code",
   "execution_count": null,
   "metadata": {
    "scrolled": true
   },
   "outputs": [],
   "source": [
    "# Apply additional settings if needed.\n",
    "#pythia.readString(\"...\")"
   ]
  },
  {
   "cell_type": "markdown",
   "metadata": {},
   "source": [
    "Decide which multiplicities you want to histogram. Multiple particles can be selected with shift and/or ctrl (or command) pressed and mouse clicks or arrow keys."
   ]
  },
  {
   "cell_type": "code",
   "execution_count": null,
   "metadata": {},
   "outputs": [],
   "source": [
    "# Setup the histogram(s).\n",
    "histos = MULTHIST()"
   ]
  },
  {
   "cell_type": "markdown",
   "metadata": {},
   "source": [
    "Now the Pythia 8 object is initialized."
   ]
  },
  {
   "cell_type": "code",
   "execution_count": null,
   "metadata": {},
   "outputs": [],
   "source": [
    "# Initialize pythia.\n",
    "pythia.init()"
   ]
  },
  {
   "cell_type": "markdown",
   "metadata": {},
   "source": [
    "The loop over events can be started now. The histograms are filled for each event and the plots updated according to the value of plotEveryNthEvent.\n",
    "\n",
    "Note that Pythia's output appears in your terminal."
   ]
  },
  {
   "cell_type": "code",
   "execution_count": null,
   "metadata": {},
   "outputs": [],
   "source": [
    "# Begin event loop. Generate event. Skip if error.\n",
    "plotEveryNthEvent = 10\n",
    "plotfilename = \"plots.png\"\n",
    "nEvent = pythia.settings.mode(\"Main:numberOfEvents\")\n",
    "for iEvent in range(nEvent):\n",
    "    if not pythia.next(): continue\n",
    "    # Fill histograms.\n",
    "    histos.analyze_event(pythia.event)\n",
    "    if iEvent > 0 and iEvent%plotEveryNthEvent == 0:\n",
    "        histos.print_plots(plotfilename)\n",
    "# End of event loop.\n",
    "pythia.stat()\n",
    "# Print final plots.\n",
    "histos.print_plots(plotfilename)"
   ]
  },
  {
   "cell_type": "markdown",
   "metadata": {},
   "source": [
    "That's it. Now we have some plots. Have fun trying different things!"
   ]
  }
 ],
 "metadata": {
  "kernelspec": {
   "display_name": "Python 2",
   "language": "python",
   "name": "python2"
  },
  "language_info": {
   "codemirror_mode": {
    "name": "ipython",
    "version": 2
   },
   "file_extension": ".py",
   "mimetype": "text/x-python",
   "name": "python",
   "nbconvert_exporter": "python",
   "pygments_lexer": "ipython2",
   "version": "2.7.12"
  }
 },
 "nbformat": 4,
 "nbformat_minor": 2
}
