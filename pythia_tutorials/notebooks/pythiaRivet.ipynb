{
 "cells": [
  {
   "cell_type": "markdown",
   "metadata": {},
   "source": [
    "# Analyzing Pythia 8 events with the Rivet toolkit"
   ]
  },
  {
   "cell_type": "markdown",
   "metadata": {},
   "source": [
    "This notebook shows how to use the Pythia 8 event generator, together with Rivet, by using an already compiled executable."
   ]
  },
  {
   "cell_type": "markdown",
   "metadata": {},
   "source": [
    "First, lets import all neccessary modules."
   ]
  },
  {
   "cell_type": "code",
   "execution_count": 3,
   "metadata": {},
   "outputs": [],
   "source": [
    "import os, sys, subprocess, time\n",
    "from plotting import RUNRIVET, PDF\n",
    "import py8settings as py8s"
   ]
  },
  {
   "cell_type": "markdown",
   "metadata": {},
   "source": [
    "Now we create a new command file while which contains the settings for Pythia to read in. We start by defining the incoming beams. More settings can be adjusted later."
   ]
  },
  {
   "cell_type": "code",
   "execution_count": 5,
   "metadata": {},
   "outputs": [
    {
     "name": "stdout",
     "output_type": "stream",
     "text": [
      "You can now set the parameters for the incoming beams:\n"
     ]
    },
    {
     "data": {
      "application/vnd.jupyter.widget-view+json": {
       "model_id": "42353b90340240abb4181ffe9f60b162",
       "version_major": 2,
       "version_minor": 0
      },
      "text/plain": [
       "interactive(children=(Dropdown(description='beam A id  [Beams:idA]', index=9, layout=Layout(width='750px'), op…"
      ]
     },
     "metadata": {},
     "output_type": "display_data"
    }
   ],
   "source": [
    "# Write beam settings to file.\n",
    "cmnd_file = \"settings.cmnd\"\n",
    "subprocess.call([\"bash\",\"-c\",\"touch \"+cmnd_file])\n",
    "py8s.beam_settings(cmnd_file)"
   ]
  },
  {
   "cell_type": "markdown",
   "metadata": {},
   "source": [
    "Some other basic settings, such as the number of events and choice of process(es), can now be adjusted.\n",
    "\n",
    "Note that you will first select a class of processes. Depending on that choice you have can choose proper processes. Multiple processes of a class can be selected with shift and/or ctrl (or command) pressed and mouse clicks or arrow keys.\n",
    "\n",
    "<b> You have to select at least one process!"
   ]
  },
  {
   "cell_type": "code",
   "execution_count": 6,
   "metadata": {
    "scrolled": true
   },
   "outputs": [
    {
     "name": "stdout",
     "output_type": "stream",
     "text": [
      "You can now select the number of events, settings for the random seed, and processes:\n"
     ]
    },
    {
     "data": {
      "application/vnd.jupyter.widget-view+json": {
       "model_id": "2f686c4bf14b4d6595b9b146952d3e6b",
       "version_major": 2,
       "version_minor": 0
      },
      "text/plain": [
       "interactive(children=(IntText(value=100, description='# of events  [Main:numberOfEvents]', layout=Layout(width…"
      ]
     },
     "metadata": {},
     "output_type": "display_data"
    }
   ],
   "source": [
    "# Apply basic settings.\n",
    "py8s.basic_settings(cmnd_file)"
   ]
  },
  {
   "cell_type": "markdown",
   "metadata": {},
   "source": [
    "Different steps of the simulation can be switched on / off next."
   ]
  },
  {
   "cell_type": "code",
   "execution_count": 7,
   "metadata": {},
   "outputs": [
    {
     "name": "stdout",
     "output_type": "stream",
     "text": [
      "You can switch on/off different parts of the simulation:\n"
     ]
    },
    {
     "data": {
      "application/vnd.jupyter.widget-view+json": {
       "model_id": "2cc7c7c69a1e4b0fa3da6b331ecd38fd",
       "version_major": 2,
       "version_minor": 0
      },
      "text/plain": [
       "interactive(children=(Checkbox(value=True, description='multi-parton interactions  [PartonLevel:MPI]', layout=…"
      ]
     },
     "metadata": {},
     "output_type": "display_data"
    }
   ],
   "source": [
    "# Switch on/off simulation steps.\n",
    "py8s.onoff_settings(cmnd_file)"
   ]
  },
  {
   "cell_type": "markdown",
   "metadata": {},
   "source": [
    "As a next step, you can now apply phase-space cuts. Note that the input to the function should be set to the number of final-state particles of the process(es) selected above."
   ]
  },
  {
   "cell_type": "code",
   "execution_count": 8,
   "metadata": {},
   "outputs": [
    {
     "name": "stdout",
     "output_type": "stream",
     "text": [
      "You can now select the phase-space cuts for 2 final-state particles:\n"
     ]
    },
    {
     "data": {
      "application/vnd.jupyter.widget-view+json": {
       "model_id": "73ee4646c36b49c99f30a2219bae99e6",
       "version_major": 2,
       "version_minor": 0
      },
      "text/plain": [
       "interactive(children=(FloatText(value=4.0, description='minimum invariant mass in GeV  [PhaseSpace:mHatMin]', …"
      ]
     },
     "metadata": {},
     "output_type": "display_data"
    }
   ],
   "source": [
    "# Write settings for phase-space cuts to file.\n",
    "py8s.pscuts_settings(cmnd_file, 2)"
   ]
  },
  {
   "cell_type": "markdown",
   "metadata": {},
   "source": [
    "Now it is time to think about the basic shower parameters."
   ]
  },
  {
   "cell_type": "code",
   "execution_count": 9,
   "metadata": {},
   "outputs": [
    {
     "name": "stdout",
     "output_type": "stream",
     "text": [
      "You can now set the main shower parameters:\n"
     ]
    },
    {
     "data": {
      "application/vnd.jupyter.widget-view+json": {
       "model_id": "698d47a5c638402a8c9f843b0c872513",
       "version_major": 2,
       "version_minor": 0
      },
      "text/plain": [
       "interactive(children=(FloatText(value=0.1201, description='alphaS(m_Z) for final-state shower (0.06 - 0.25)  […"
      ]
     },
     "metadata": {},
     "output_type": "display_data"
    }
   ],
   "source": [
    "# Write shower settings to file.\n",
    "py8s.shower_settings(cmnd_file, True)"
   ]
  },
  {
   "cell_type": "markdown",
   "metadata": {},
   "source": [
    "And finally the fragmentation parameters."
   ]
  },
  {
   "cell_type": "code",
   "execution_count": 10,
   "metadata": {},
   "outputs": [
    {
     "name": "stdout",
     "output_type": "stream",
     "text": [
      "You can now set the main fragmentation parameters:\n"
     ]
    },
    {
     "data": {
      "application/vnd.jupyter.widget-view+json": {
       "model_id": "ff5f191dcafc4b2597dc5e263b4e1744",
       "version_major": 2,
       "version_minor": 0
      },
      "text/plain": [
       "interactive(children=(FloatText(value=0.9704, description='a parameter of the fragmentation function (0.0 - 2.…"
      ]
     },
     "metadata": {},
     "output_type": "display_data"
    }
   ],
   "source": [
    "# Write fragmentation settings to file.\n",
    "py8s.fragmentation_settings(cmnd_file, True)"
   ]
  },
  {
   "cell_type": "markdown",
   "metadata": {},
   "source": [
    "If you want to modify more settings, feed a list of settings to the py8s.more_settings method.\n",
    "\n",
    "For the Pythia online manual see http://home.thep.lu.se/~torbjorn/pythia82html/Welcome.html. There you can find a description of all parameters."
   ]
  },
  {
   "cell_type": "code",
   "execution_count": null,
   "metadata": {},
   "outputs": [],
   "source": [
    "# Write additional settings if needed.\n",
    "#py8s.more_settings(cmnd_file, [\"...\"])"
   ]
  },
  {
   "cell_type": "markdown",
   "metadata": {},
   "source": [
    "After writing the settings to a file, you are presented with a list of Rivet analyses to choose from. Multiple analyses can be selected with shift and/or ctrl (or command) pressed and mouse clicks or arrow keys. Additional analyses can be added by inserting a comma-separated list of analyses into the text field below.\n",
    "\n",
    "For a full list of Rivet analyses see http://rivet.hepforge.org/analyses.html.\n",
    "\n",
    "In the text field, you can also add any custom Rivet analyses that is present in the directory /jupyter. See the README file for more information."
   ]
  },
  {
   "cell_type": "code",
   "execution_count": 11,
   "metadata": {},
   "outputs": [
    {
     "name": "stdout",
     "output_type": "stream",
     "text": [
      "You can now select from a range of analyses and/or add analyses:\n"
     ]
    },
    {
     "data": {
      "application/vnd.jupyter.widget-view+json": {
       "model_id": "c4138af1519146f6b623cbac9a5280f2",
       "version_major": 2,
       "version_minor": 0
      },
      "text/plain": [
       "interactive(children=(SelectMultiple(description='Analyses', index=(0,), layout=Layout(width='800px'), options…"
      ]
     },
     "metadata": {},
     "output_type": "display_data"
    }
   ],
   "source": [
    "# Setup rivet.\n",
    "rivet = RUNRIVET()"
   ]
  },
  {
   "cell_type": "markdown",
   "metadata": {},
   "source": [
    "Now Pythia is started to produce HepMC output, feeded directly to Rivet via a fifo pipe.\n",
    "\n",
    "Note that Pythia's output appears in your terminal."
   ]
  },
  {
   "cell_type": "code",
   "execution_count": 12,
   "metadata": {},
   "outputs": [],
   "source": [
    "# Define name a file for the HepMC output.\n",
    "hepmc_file = \"hepmctest\"\n",
    "# Start Pythia\n",
    "subprocess.call([\"bash\",\"-c\",\"main300 --input \"+cmnd_file+\" --hepmc_output \"+hepmc_file])\n",
    "# Start Rivet\n",
    "rivet.start_rivet(hepmc_file)"
   ]
  },
  {
   "cell_type": "markdown",
   "metadata": {},
   "source": [
    "Rivet plots are produced and shown directly."
   ]
  },
  {
   "cell_type": "code",
   "execution_count": 13,
   "metadata": {},
   "outputs": [
    {
     "data": {
      "text/html": [
       "<iframe src=rivet-plots/booklet.pdf width=600 height=500></iframe>"
      ],
      "text/latex": [
       "\\includegraphics[width=1.0\\textwidth]{rivet-plots/booklet.pdf}"
      ],
      "text/plain": [
       "<plotting.PDF at 0x7f794d4f5760>"
      ]
     },
     "execution_count": 13,
     "metadata": {},
     "output_type": "execute_result"
    }
   ],
   "source": [
    "# Produce rivet plots.\n",
    "rivet.produce_plots()\n",
    "PDF(\"rivet-plots/booklet.pdf\",size=(600,500))"
   ]
  },
  {
   "cell_type": "markdown",
   "metadata": {},
   "source": [
    "That's it. Have fun trying different things!"
   ]
  }
 ],
 "metadata": {
  "kernelspec": {
   "display_name": "Python 3",
   "language": "python",
   "name": "python3"
  },
  "language_info": {
   "codemirror_mode": {
    "name": "ipython",
    "version": 3
   },
   "file_extension": ".py",
   "mimetype": "text/x-python",
   "name": "python",
   "nbconvert_exporter": "python",
   "pygments_lexer": "ipython3",
   "version": "3.8.2"
  }
 },
 "nbformat": 4,
 "nbformat_minor": 2
}
