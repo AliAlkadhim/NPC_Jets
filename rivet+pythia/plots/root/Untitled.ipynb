{
 "cells": [
  {
   "cell_type": "code",
   "execution_count": 3,
   "id": "f5c8112d-d220-4102-8b2c-455a67695e95",
   "metadata": {},
   "outputs": [],
   "source": [
    "import ROOT\n",
    "import uproot3"
   ]
  },
  {
   "cell_type": "code",
   "execution_count": 23,
   "id": "5a4d643b-ecc8-45af-9b99-e7b169da547a",
   "metadata": {},
   "outputs": [
    {
     "data": {
      "text/plain": [
       "[b'd21-x01-y01;1',\n",
       " b'd01-x01-y01;1',\n",
       " b'd03-x01-y01;1',\n",
       " b'd04-x01-y01;1',\n",
       " b'd24-x01-y01;1',\n",
       " b'd02-x01-y01;1',\n",
       " b'd22-x01-y01;1',\n",
       " b'd23-x01-y01;1']"
      ]
     },
     "execution_count": 23,
     "metadata": {},
     "output_type": "execute_result"
    }
   ],
   "source": [
    "InputFile_post_250 = \"suppr250_bornktmin10_100M_ParsiParams_posthadron_merged.root\"\n",
    "InputFile_pre_250 = \"suppr250_bornktmin10_100M_ParsiParams_prehadron_merged.root\"\n",
    "\n",
    "InputFile_post = \"suppr800_bornktmin600_1B_ParisParams_MSTP_posthadron_merged.root\"\n",
    "InputFile_pre = \"suppr800_bornktmin600_1B_ParisParams_MSTP_prehadron_merged.root\"\n",
    "f_post = ROOT.TFile.Open(InputFile_post, 'READ')\n",
    "f_pre = ROOT.TFile.Open(InputFile_pre, 'READ')\n",
    "\n",
    "fu = uproot3.open(InputFile)\n",
    "fu[\"CMS_2021_I1972986\"].keys()"
   ]
  },
  {
   "cell_type": "code",
   "execution_count": 24,
   "id": "dc35e433-2c31-492e-9d91-0138a76328ef",
   "metadata": {},
   "outputs": [
    {
     "data": {
      "image/png": "[encoded data removed]",
      "text/plain": [
       "<IPython.core.display.Image object>"
      ]
     },
     "metadata": {},
     "output_type": "display_data"
    }
   ],
   "source": [
    "hist_post = f_post.Get(\"CMS_2021_I1972986/d01-x01-y01\")\n",
    "hist_pre = f_pre.Get(\"CMS_2021_I1972986/d01-x01-y01\")\n",
    "\n",
    "c = ROOT.TCanvas(\"\", \"\", 600, 600)\n",
    "c.SetLogy()\n",
    "\n",
    "c.Draw()\n",
    "hist_post.Draw(\"SAME\")\n",
    "hist_pre.Draw(\"SAME\")\n",
    "\n"
   ]
  },
  {
   "cell_type": "code",
   "execution_count": 28,
   "id": "7bb9713a-1f8b-481a-9605-108beb720a4e",
   "metadata": {},
   "outputs": [
    {
     "name": "stderr",
     "output_type": "stream",
     "text": [
      "Warning in <TH1D::Sumw2>: Sum of squares of weights structure already created\n"
     ]
    },
    {
     "data": {
      "image/png": "[encoded data removed]",
      "text/plain": [
       "<IPython.core.display.Image object>"
      ]
     },
     "metadata": {},
     "output_type": "display_data"
    }
   ],
   "source": [
    "ratio_hist = hist_post.Clone(\"ratio_hist\")\n",
    "ratio_hist.SetMinimum(0)\n",
    "ratio_hist.SetMaximum(2.5)\n",
    "x=ratio_hist.GetXaxis()\n",
    "ratio_hist.SetAxisRange(0,3000)\n",
    "\n",
    "ratio_hist.Sumw2()\n",
    "ratio_hist.Divide(hist_pre)\n",
    "c = ROOT.TCanvas(\"\", \"\", 600, 600)\n",
    "\n",
    "c.Draw()\n",
    "ratio_hist.Draw()"
   ]
  },
  {
   "cell_type": "code",
   "execution_count": 19,
   "id": "b3bfa7b9-5684-46a7-9a61-198117d27638",
   "metadata": {},
   "outputs": [],
   "source": [
    "ratio_hist.SetAxisRange(0,800)"
   ]
  },
  {
   "cell_type": "code",
   "execution_count": null,
   "id": "23701a3f-3c8b-4f77-b93e-2b734f3eaf4b",
   "metadata": {},
   "outputs": [],
   "source": []
  }
 ],
 "metadata": {
  "kernelspec": {
   "display_name": "Python 3 (ipykernel)",
   "language": "python",
   "name": "python3"
  },
  "language_info": {
   "codemirror_mode": {
    "name": "ipython",
    "version": 3
   },
   "file_extension": ".py",
   "mimetype": "text/x-python",
   "name": "python",
   "nbconvert_exporter": "python",
   "pygments_lexer": "ipython3",
   "version": "3.7.7"
  }
 },
 "nbformat": 4,
 "nbformat_minor": 5
}
