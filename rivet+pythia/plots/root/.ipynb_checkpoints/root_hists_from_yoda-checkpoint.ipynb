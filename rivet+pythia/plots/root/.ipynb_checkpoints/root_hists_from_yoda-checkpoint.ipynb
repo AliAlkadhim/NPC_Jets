{
 "cells": [
  {
   "cell_type": "code",
   "execution_count": 1,
   "id": "f5c8112d-d220-4102-8b2c-455a67695e95",
   "metadata": {},
   "outputs": [
    {
     "name": "stderr",
     "output_type": "stream",
     "text": [
      "ERROR in cling::CIFactory::createCI(): cannot extract standard library include paths!\n",
      "Invoking:\n",
      "  x86_64-linux-gnu-g++-7  -O3 -DNDEBUG -xc++ -E -v /dev/null 2>&1 | sed -n -e '/^.include/,${' -e '/^ \\/.*++/p' -e '}'\n",
      "Results was:\n",
      "With exit code 0\n"
     ]
    },
    {
     "name": "stdout",
     "output_type": "stream",
     "text": [
      "Welcome to JupyROOT 6.19/01\n"
     ]
    }
   ],
   "source": [
    "import ROOT\n",
    "import uproot3\n",
    "import os"
   ]
  },
  {
   "cell_type": "markdown",
   "id": "b40c66cb-3ba2-4fbf-8bfb-044504b39f26",
   "metadata": {},
   "source": [
    "Set Atlas style"
   ]
  },
  {
   "cell_type": "code",
   "execution_count": 2,
   "id": "e9df5bf6-2af1-44e5-8e9a-5e88161bd45f",
   "metadata": {},
   "outputs": [
    {
     "name": "stdout",
     "output_type": "stream",
     "text": [
      ".:/home/ali/build_root/macros\n",
      "\n",
      "Applying ATLAS style settings...\n",
      "\n"
     ]
    }
   ],
   "source": [
    "print(ROOT.gROOT.GetMacroPath())\n",
    "from ROOT import gROOT\n",
    "atlasrootstyle_path = os.environ['HOME']+'/.local/opt/atlasstyle-00-03-05'\n",
    "gROOT.SetMacroPath(os.pathsep.join([gROOT.GetMacroPath(), atlasrootstyle_path ]))\n",
    "gROOT.LoadMacro(\"AtlasLabels.C\")\n",
    "gROOT.LoadMacro(\"AtlasStyle.C\")\n",
    "gROOT.LoadMacro(\"AtlasUtils.C\")\n",
    "\n",
    "ROOT.SetAtlasStyle()"
   ]
  },
  {
   "cell_type": "code",
   "execution_count": 3,
   "id": "5a4d643b-ecc8-45af-9b99-e7b169da547a",
   "metadata": {},
   "outputs": [
    {
     "data": {
      "text/plain": [
       "[b'd01-x01-y01;1',\n",
       " b'd21-x01-y01;1',\n",
       " b'd02-x01-y01;1',\n",
       " b'd22-x01-y01;1',\n",
       " b'd03-x01-y01;1',\n",
       " b'd23-x01-y01;1',\n",
       " b'd04-x01-y01;1',\n",
       " b'd24-x01-y01;1']"
      ]
     },
     "execution_count": 3,
     "metadata": {},
     "output_type": "execute_result"
    }
   ],
   "source": [
    "slice_ = 'ad'\n",
    "\n",
    "\n",
    "if slice_==\"250_10\":\n",
    "    InputFile_post = \"root_files/suppr250_bornktmin10_100M_ParsiParams_posthadron_merged.root\"\n",
    "    InputFile_pre = \"root_files/suppr250_bornktmin10_100M_ParsiParams_prehadron_merged.root\"\n",
    "\n",
    "if slice_==\"800_600\":\n",
    "    InputFile_post = \"root_files/suppr800_bornktmin600_1B_ParisParams_MSTP_posthadron_merged.root\"\n",
    "    InputFile_pre = \"root_files/suppr800_bornktmin600_1B_ParisParams_MSTP_prehadron_merged.root\"\n",
    "\n",
    "if slice_ ==\"160_5\":\n",
    "    InputFile_post = \"root_files/suppr160_bornktmin5_1B_ParsiParams_MSTP_posthadron_merged.root\"\n",
    "    InputFile_pre = \"root_files/suppr160_bornktmin5_1B_ParsiParams_MSTP_prehadron_merged.root\"\n",
    "else:\n",
    "    InputFile_post = '/home/ali/Desktop/Pulled_Github_Repositories/NPCorrection_InclusiveJets/rivet+pythia/PYTHIA_STANDALONE/Paris_CUETP8M_10T/Paris_CUETP8M_10T_posthadron_merged.root'\n",
    "    InputFile_pre = '/home/ali/Desktop/Pulled_Github_Repositories/NPCorrection_InclusiveJets/rivet+pythia/PYTHIA_STANDALONE/Paris_CUETP8M_10T/Paris_CUETP8M_10T_prehadron_merged.root'\n",
    "    \n",
    "    \n",
    "    \n",
    "\n",
    "f_post = ROOT.TFile.Open(InputFile_post, 'READ')\n",
    "f_pre = ROOT.TFile.Open(InputFile_pre, 'READ')\n",
    "\n",
    "fu = uproot3.open(InputFile_post)\n",
    "fu[\"CMS_2021_I1972986\"].keys()"
   ]
  },
  {
   "cell_type": "code",
   "execution_count": 4,
   "id": "dc35e433-2c31-492e-9d91-0138a76328ef",
   "metadata": {},
   "outputs": [
    {
     "data": {
      "image/png": "[encoded data removed]",
      "text/plain": [
       "<IPython.core.display.Image object>"
      ]
     },
     "metadata": {},
     "output_type": "display_data"
    }
   ],
   "source": [
    "hist_post = f_post.Get(\"CMS_2021_I1972986/d01-x01-y01\")\n",
    "hist_pre = f_pre.Get(\"CMS_2021_I1972986/d01-x01-y01\")\n",
    "\n",
    "c = ROOT.TCanvas(\"\", \"\", 600, 600)\n",
    "c.SetLogy()\n",
    "\n",
    "c.Draw()\n",
    "hist_post.Draw(\"SAME\")\n",
    "hist_pre.Draw(\"SAME\")\n",
    "\n"
   ]
  },
  {
   "cell_type": "code",
   "execution_count": 7,
   "id": "7bb9713a-1f8b-481a-9605-108beb720a4e",
   "metadata": {},
   "outputs": [
    {
     "name": "stderr",
     "output_type": "stream",
     "text": [
      "Warning in <TH1D::Sumw2>: Sum of squares of weights structure already created\n",
      "Info in <TCanvas::Print>: png file ad_1B_NPC_ROOT.png has been created\n"
     ]
    },
    {
     "data": {
      "image/png": "[encoded data removed]",
      "text/plain": [
       "<IPython.core.display.Image object>"
      ]
     },
     "metadata": {},
     "output_type": "display_data"
    }
   ],
   "source": [
    "ratio_hist = hist_post.Clone(\"ratio_hist\")\n",
    "RANGE=(0.9,1.2)\n",
    "ratio_hist.SetMinimum(RANGE[0])\n",
    "ratio_hist.SetMaximum(RANGE[1])\n",
    "x=ratio_hist.GetXaxis()\n",
    "ratio_hist.SetAxisRange(100,2500)\n",
    "\n",
    "ratio_hist.Sumw2()\n",
    "ratio_hist.Divide(hist_pre)\n",
    "c = ROOT.TCanvas(\"\", \"\", 600, 600)\n",
    "\n",
    "c.Draw()\n",
    "\n",
    "\n",
    "ratio_hist.Draw(\"hist\")\n",
    "c.SaveAs('%s_1B_NPC_ROOT.png' % slice_)"
   ]
  },
  {
   "cell_type": "code",
   "execution_count": 13,
   "id": "b3bfa7b9-5684-46a7-9a61-198117d27638",
   "metadata": {},
   "outputs": [],
   "source": [
    "ratio_hist.SetAxisRange(0,800)"
   ]
  },
  {
   "cell_type": "code",
   "execution_count": null,
   "id": "23701a3f-3c8b-4f77-b93e-2b734f3eaf4b",
   "metadata": {},
   "outputs": [],
   "source": []
  }
 ],
 "metadata": {
  "kernelspec": {
   "display_name": "Python 3 (ipykernel)",
   "language": "python",
   "name": "python3"
  },
  "language_info": {
   "codemirror_mode": {
    "name": "ipython",
    "version": 3
   },
   "file_extension": ".py",
   "mimetype": "text/x-python",
   "name": "python",
   "nbconvert_exporter": "python",
   "pygments_lexer": "ipython3",
   "version": "3.7.10"
  }
 },
 "nbformat": 4,
 "nbformat_minor": 5
}
